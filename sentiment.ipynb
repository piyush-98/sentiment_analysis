{
 "cells": [
  {
   "cell_type": "code",
   "execution_count": 1,
   "metadata": {},
   "outputs": [],
   "source": [
    "import nltk\n",
    "from nltk.tokenize import word_tokenize\n",
    "from nltk.corpus import stopwords\n",
    "from nltk.stem import WordNetLemmatizer\n",
    "from nltk.stem import PorterStemmer\n",
    "from collections import Counter\n",
    "from nltk.corpus import stopwords\n",
    "stop_words=set(stopwords.words('english'))\n",
    "lemm = WordNetLemmatizer()\n",
    "\n",
    "lines=100000\n",
    "\n",
    "\n",
    "\n"
   ]
  },
  {
   "cell_type": "code",
   "execution_count": 2,
   "metadata": {},
   "outputs": [],
   "source": [
    "def create_lexicon():\n",
    "    lexicon=[]\n",
    "    with open('pos.txt','r') as f:\n",
    "        contents = f.readlines()\n",
    "        #all_words=word_tokenize(contents)\n",
    "        for l in contents[:lines]:\n",
    "            all_words=word_tokenize(l)\n",
    "            lexicon+=list(all_words)\n",
    "\n",
    "                \n",
    "                    \n",
    "            \n",
    "    with open('neg.txt','r') as f:\n",
    "        contents = f.readlines()\n",
    "        for l in contents[:lines]:\n",
    "            all_words=word_tokenize(l)\n",
    "            lexicon += list(all_words)\n",
    "    \n",
    "    lexicon = [lemm.lemmatize(i,pos='n') for i in lexicon]\n",
    "    w_counts = Counter(lexicon)\n",
    "    l2 = []\n",
    "    for w in w_counts:\n",
    "        #print(w_counts[w])\n",
    "        if 1000 > w_counts[w] > 50:\n",
    "            l2.append(w)\n",
    "    return l2\n",
    "            \n",
    "        \n",
    "            \n",
    "           "
   ]
  },
  {
   "cell_type": "code",
   "execution_count": 3,
   "metadata": {},
   "outputs": [],
   "source": [
    "l2=create_lexicon()"
   ]
  },
  {
   "cell_type": "code",
   "execution_count": 4,
   "metadata": {},
   "outputs": [
    {
     "name": "stdout",
     "output_type": "stream",
     "text": [
      "423\n"
     ]
    }
   ],
   "source": [
    "print((len(l2)))"
   ]
  },
  {
   "cell_type": "code",
   "execution_count": 5,
   "metadata": {},
   "outputs": [],
   "source": [
    "def make_features(sample,lexicon,char):\n",
    "    import numpy as np\n",
    "    featureset=[]\n",
    "    with open(sample,'r')as f:\n",
    "        contents=f.readlines()\n",
    "        \n",
    "        for l in contents[:lines]:\n",
    "            sam_words=word_tokenize(l)\n",
    "            sam_words=[lemm.lemmatize(i) for i in sam_words]\n",
    "            features=np.zeros(len(lexicon))\n",
    "            for word in sam_words:\n",
    "                if word.lower() in lexicon:\n",
    "                    index_value=lexicon.index(word.lower())\n",
    "                    features[index_value]+=1\n",
    "            features=list(features)\n",
    "            featureset.append([features,char])\n",
    "    return featureset\n",
    "                    \n",
    "                    \n",
    "            \n",
    "            \n",
    "              \n",
    "              \n",
    "    \n",
    "    "
   ]
  },
  {
   "cell_type": "code",
   "execution_count": 6,
   "metadata": {},
   "outputs": [],
   "source": [
    "l=make_features('pos.txt',l2,[1,0])\n"
   ]
  },
  {
   "cell_type": "code",
   "execution_count": 7,
   "metadata": {},
   "outputs": [],
   "source": [
    "l+=make_features('neg.txt',l2,[0,1])"
   ]
  },
  {
   "cell_type": "code",
   "execution_count": 8,
   "metadata": {},
   "outputs": [
    {
     "name": "stdout",
     "output_type": "stream",
     "text": [
      "10662\n"
     ]
    }
   ],
   "source": [
    "print((len(l)))"
   ]
  },
  {
   "cell_type": "code",
   "execution_count": 9,
   "metadata": {},
   "outputs": [],
   "source": [
    "import random\n",
    "random.shuffle(l)\n"
   ]
  },
  {
   "cell_type": "code",
   "execution_count": 10,
   "metadata": {},
   "outputs": [
    {
     "name": "stdout",
     "output_type": "stream",
     "text": [
      "(10662, 2)\n"
     ]
    }
   ],
   "source": [
    "import numpy as np\n",
    "features=np.array(l,dtype=list)\n",
    "print(features.shape)\n"
   ]
  },
  {
   "cell_type": "code",
   "execution_count": 11,
   "metadata": {},
   "outputs": [
    {
     "name": "stdout",
     "output_type": "stream",
     "text": [
      "(2162,)\n"
     ]
    }
   ],
   "source": [
    "test_size=2162\n",
    "a=features.shape[0]\n",
    "train_size=a-test_size\n",
    "x_train=features[0:train_size,0]\n",
    "y_train=features[0:train_size,1]\n",
    "x_test=features[train_size:a,0]\n",
    "y_test=features[train_size:a,1]\n",
    "print((y_test.shape))\n"
   ]
  },
  {
   "cell_type": "code",
   "execution_count": null,
   "metadata": {},
   "outputs": [],
   "source": []
  },
  {
   "cell_type": "code",
   "execution_count": 12,
   "metadata": {},
   "outputs": [],
   "source": [
    "x_train=np.vstack([np.expand_dims(x,0) for x in x_train])\n",
    "y_train=np.vstack([np.expand_dims(x,0) for x in y_train])\n",
    "x_test=np.vstack([np.expand_dims(x,0) for x in x_test])\n",
    "y_test=np.vstack([np.expand_dims(x,0) for x in y_test])"
   ]
  },
  {
   "cell_type": "code",
   "execution_count": 13,
   "metadata": {},
   "outputs": [
    {
     "name": "stdout",
     "output_type": "stream",
     "text": [
      "(2162, 2)\n"
     ]
    }
   ],
   "source": [
    "print(y_test.shape)"
   ]
  },
  {
   "cell_type": "code",
   "execution_count": 26,
   "metadata": {},
   "outputs": [],
   "source": [
    "h1=200\n",
    "h2=200\n",
    "h3=200\n",
    "import tensorflow as tf\n",
    "\n",
    "x=tf.placeholder(shape=[None,423],dtype=tf.float32)\n",
    "y=tf.placeholder(shape=[None,2],dtype=tf.float32)\n",
    "def forward(data):\n",
    "    a=len(x_train[0])\n",
    "    std1=(1/np.sqrt(a))\n",
    "    w1=tf.Variable(np.random.normal(0,std1,(a,h1)))\n",
    "    b1=tf.Variable(tf.constant(0.2,shape=[h1]))\n",
    "    w1=tf.cast(w1,tf.float32)\n",
    "    \n",
    "    std2=(1/np.sqrt(h1))\n",
    "    w2=tf.Variable(np.random.normal(0,std2,(h1,h2)))\n",
    "    b2=tf.Variable(tf.constant(0.2,shape=[h2]))\n",
    "    w2=tf.cast(w2,tf.float32)\n",
    "    \n",
    "    std3=(1/np.sqrt(h2))\n",
    "    w3=tf.Variable(np.random.normal(0,std3,(h2,2)))\n",
    "    b3=tf.Variable(tf.constant(0.2,shape=[2]))\n",
    "    w3=tf.cast(w3,tf.float32)\n",
    "    \n",
    "    a0=data\n",
    "    a1=tf.nn.relu(tf.matmul(a0,w1) +b1)\n",
    "    a2=tf.nn.relu(tf.matmul(a1,w2) +b2)\n",
    "    a3=(tf.matmul(a2,w3) +b3)\n",
    "    #a4=tf.nn.softmax(tf.matmul(a3,w4) +b4)\n",
    "    return a3\n",
    "def train():\n",
    "    batch=20\n",
    "    #h=20\n",
    "    pred=forward(x)\n",
    "    cost=tf.reduce_mean(tf.nn.softmax_cross_entropy_with_logits(labels=y, logits=pred))\n",
    "    train_step = tf.train.AdamOptimizer(0.01).minimize(cost)\n",
    "    correct_prediction = tf.equal(tf.argmax(pred,1), tf.argmax(y,1))\n",
    "    accuracy = tf.reduce_mean(tf.cast(correct_prediction, tf.float32))\n",
    "    with tf.Session() as sess:\n",
    "        sess.run(tf.global_variables_initializer())\n",
    "        for j in range(8):\n",
    "            for i in range(425):\n",
    "                \n",
    "                x_batch=x_train[i*batch:(i+1)*batch,:]\n",
    "                y_batch=y_train[i*batch:(i+1)*batch,:]\n",
    "                sess.run(train_step,feed_dict={x:x_batch,y:y_batch})\n",
    "                \n",
    "                \n",
    "\n",
    "            #print('accuracy after epoch is',sess.run(accuracy,feed_dict={x:x_train,y:y_train}))\n",
    "            print('corresponding loss',sess.run(cost,feed_dict={x:x_train,y:y_train}))\n",
    "        \n",
    "        \n",
    "        print('accuracy for test set',sess.run(accuracy,feed_dict={x:x_test,y:y_test}))"
   ]
  }
 ],
 "metadata": {
  "kernelspec": {
   "display_name": "Python 3",
   "language": "python",
   "name": "python3"
  },
  "language_info": {
   "codemirror_mode": {
    "name": "ipython",
    "version": 3
   },
   "file_extension": ".py",
   "mimetype": "text/x-python",
   "name": "python",
   "nbconvert_exporter": "python",
   "pygments_lexer": "ipython3",
   "version": "3.6.6"
  }
 },
 "nbformat": 4,
 "nbformat_minor": 2
}
